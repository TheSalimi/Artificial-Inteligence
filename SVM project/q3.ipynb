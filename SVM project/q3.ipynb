{
 "cells": [
  {
   "cell_type": "code",
   "execution_count": 1,
   "metadata": {},
   "outputs": [],
   "source": [
    "from sklearn import svm\n",
    "from sklearn.metrics import accuracy_score\n",
    "from sklearn.preprocessing import StandardScaler\n",
    "from sklearn.pipeline import make_pipeline\n",
    "from sklearn.model_selection import GridSearchCV\n",
    "import os\n",
    "from skimage import io, color, transform\n",
    "import numpy as np"
   ]
  },
  {
   "cell_type": "code",
   "execution_count": 2,
   "metadata": {},
   "outputs": [],
   "source": [
    "def load_images(folder_path, label):\n",
    "    images = []\n",
    "    labels = []\n",
    "    for filename in os.listdir(folder_path):\n",
    "        if filename.endswith(\".png\") or filename.endswith(\".jpg\"):\n",
    "            img = io.imread(os.path.join(folder_path, filename))\n",
    "            img = color.rgb2gray(img)\n",
    "            img = transform.resize(img, (64, 64) , anti_aliasing=True)\n",
    "            images.append(img.flatten())\n",
    "            labels.append(label)\n",
    "    return images, labels"
   ]
  },
  {
   "cell_type": "code",
   "execution_count": 3,
   "metadata": {},
   "outputs": [],
   "source": [
    "circle_images, circle_labels = load_images(\"dataset/train/circle\", 0)\n",
    "square_images, square_labels = load_images(\"dataset/train/square\", 1)\n",
    "triangle_images, triangle_labels = load_images(\"dataset/train/triangle\", 2)\n",
    "\n",
    "X_train = np.concatenate((circle_images, square_images, triangle_images), axis=0)\n",
    "y_train = np.concatenate((circle_labels, square_labels, triangle_labels), axis=0)\n",
    "\n",
    "# Load and preprocess test data\n",
    "circle_images_test, circle_labels_test = load_images(\"dataset/Test/circle\", 0)\n",
    "square_images_test, square_labels_test = load_images(\"dataset/Test/square\", 1)\n",
    "triangle_images_test, triangle_labels_test = load_images(\"dataset/Test/triangle\", 2)\n",
    "\n",
    "X_test = np.concatenate((circle_images_test, square_images_test, triangle_images_test), axis=0)\n",
    "y_test = np.concatenate((circle_labels_test, square_labels_test, triangle_labels_test), axis=0)"
   ]
  },
  {
   "cell_type": "code",
   "execution_count": 4,
   "metadata": {},
   "outputs": [
    {
     "name": "stdout",
     "output_type": "stream",
     "text": [
      "Accuracy with Linear kernel: 0.9794871794871794\n",
      "*********************\n",
      "Accuracy with Poly kernel: 0.6461538461538462\n",
      "*********************\n",
      "Accuracy with RBF kernel: 0.958974358974359\n",
      "*********************\n",
      "Accuracy with Sigmoid kernel: 0.9128205128205128\n",
      "*********************\n"
     ]
    }
   ],
   "source": [
    "models = {\n",
    "    'Linear': make_pipeline(StandardScaler(), svm.SVC(kernel='linear')),\n",
    "    'Poly': make_pipeline(StandardScaler(), svm.SVC(kernel='poly')),\n",
    "    'RBF': make_pipeline(StandardScaler(), svm.SVC(kernel='rbf')),\n",
    "    'Sigmoid': make_pipeline(StandardScaler(), svm.SVC(kernel='sigmoid'))\n",
    "}\n",
    "\n",
    "# Train and evaluate each model\n",
    "for kernel, model in models.items():\n",
    "    model.fit(X_train, y_train)\n",
    "    y_pred = model.predict(X_test)\n",
    "    accuracy = accuracy_score(y_test, y_pred)\n",
    "    print(f\"Accuracy with {kernel} kernel: {accuracy}\\n*********************\")"
   ]
  },
  {
   "cell_type": "code",
   "execution_count": 5,
   "metadata": {},
   "outputs": [
    {
     "name": "stdout",
     "output_type": "stream",
     "text": [
      "Best parameters found for Linear kernel: {'svc__C': 1, 'svc__kernel': 'linear'}\n",
      "Accuracy with best Linear model: 0.9794871794871794\n",
      "*********************\n",
      "Best parameters found for Poly kernel: {'svc__C': 100, 'svc__kernel': 'poly'}\n",
      "Accuracy with best Poly model: 0.958974358974359\n",
      "*********************\n",
      "Best parameters found for RBF kernel: {'svc__C': 1000, 'svc__kernel': 'rbf'}\n",
      "Accuracy with best RBF model: 0.9948717948717949\n",
      "*********************\n",
      "Best parameters found for Sigmoid kernel: {'svc__C': 1, 'svc__kernel': 'sigmoid'}\n",
      "Accuracy with best Sigmoid model: 0.9128205128205128\n",
      "*********************\n"
     ]
    }
   ],
   "source": [
    "for kernel, model in models.items():\n",
    "    param_grid = {'svc__C': [1, 10, 100, 1000], 'svc__kernel': [kernel.lower()]}\n",
    "    grid = GridSearchCV(model, param_grid, cv=5)\n",
    "    grid.fit(X_train, y_train)\n",
    "    \n",
    "    print(f\"Best parameters found for {kernel} kernel: {grid.best_params_}\")\n",
    "\n",
    "    # Use the best model from hyperparameter tuning\n",
    "    best_model = grid.best_estimator_\n",
    "    y_pred_best = best_model.predict(X_test)\n",
    "    accuracy_best = accuracy_score(y_test, y_pred_best)\n",
    "    print(f\"Accuracy with best {kernel} model: {accuracy_best}\")\n",
    "    print(\"*********************\")"
   ]
  }
 ],
 "metadata": {
  "kernelspec": {
   "display_name": "Python 3",
   "language": "python",
   "name": "python3"
  },
  "language_info": {
   "codemirror_mode": {
    "name": "ipython",
    "version": 3
   },
   "file_extension": ".py",
   "mimetype": "text/x-python",
   "name": "python",
   "nbconvert_exporter": "python",
   "pygments_lexer": "ipython3",
   "version": "3.11.5"
  }
 },
 "nbformat": 4,
 "nbformat_minor": 2
}
