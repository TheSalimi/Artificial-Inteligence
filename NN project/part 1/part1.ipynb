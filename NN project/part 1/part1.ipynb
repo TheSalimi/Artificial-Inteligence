{
 "cells": [
  {
   "cell_type": "markdown",
   "metadata": {},
   "source": [
    "imports"
   ]
  },
  {
   "cell_type": "code",
   "execution_count": 17,
   "metadata": {},
   "outputs": [],
   "source": [
    "from sklearn.metrics import accuracy_score\n",
    "import pandas as pd\n",
    "from sklearn.neural_network import MLPClassifier"
   ]
  },
  {
   "cell_type": "markdown",
   "metadata": {},
   "source": [
    "get data from csv\n"
   ]
  },
  {
   "cell_type": "code",
   "execution_count": 18,
   "metadata": {},
   "outputs": [],
   "source": [
    "full_data=pd.read_csv('Airplane.csv')"
   ]
  },
  {
   "cell_type": "markdown",
   "metadata": {},
   "source": [
    "clean data"
   ]
  },
  {
   "cell_type": "code",
   "execution_count": 19,
   "metadata": {},
   "outputs": [],
   "source": [
    "satisfaction_mapping = { \"satisfied\": 1,\"neutral or dissatisfied\": 0}\n",
    "full_data[\"satisfaction\"] = full_data[\"satisfaction\"].apply(lambda x: satisfaction_mapping[x]).astype(int)\n",
    "\n",
    "Customer_mapping = { \"Loyal Customer\": 1,\"disloyal Customer\": 0}\n",
    "full_data[\"Customer Type\"] = full_data[\"Customer Type\"].apply(lambda x: Customer_mapping[x]).astype(int)\n",
    "\n",
    "Gender_mapping = { \"Male\": 1,\"Female\": 0}\n",
    "full_data[\"Gender\"] = full_data[\"Gender\"].apply(lambda x : Gender_mapping[x]).astype(int)\n",
    "\n",
    "class_mapping = {\"Eco\": 0, \"Business\": 1, \"Eco Plus\": 2}\n",
    "full_data[\"Class\"] = full_data[\"Class\"].apply(lambda x : class_mapping[x]).astype(int)\n",
    "\n",
    "Traveltype_mapping = {\"Personal Travel\": 1,\"Business travel\": 0}\n",
    "full_data[\"Type of Travel\"] = full_data[\"Type of Travel\"].apply(lambda x : Traveltype_mapping[x]).astype(int);\n",
    "\n",
    "full_data['Age'], bins = pd.qcut(full_data['Age'],q = 8,labels=False, retbins=True)\n",
    "\n",
    "#-------------------------------------------------------\n",
    "max_flight_distance = full_data[\"Flight Distance\"].max()\n",
    "min_flight_distance = full_data[\"Flight Distance\"].min()\n",
    "\n",
    "num_bins_flight_distance = 8\n",
    "\n",
    "full_data['Flight Distance'] = pd.cut(\n",
    "    full_data['Flight Distance'], bins=num_bins_flight_distance, labels=False, right=False)\n",
    "\n",
    "full_data.loc[full_data['Flight Distance'] < min_flight_distance, 'Flight Distance'] = 0\n",
    "bin_size_flight_distance = (max_flight_distance - min_flight_distance) / num_bins_flight_distance\n",
    "\n",
    "for i in range(1, num_bins_flight_distance + 1):\n",
    "    lower_bound_flight_distance = (bin_size_flight_distance * (i-1)) + min_flight_distance\n",
    "    upper_bound_flight_distance = (bin_size_flight_distance * i) + min_flight_distance\n",
    "    \n",
    "    full_data.loc[(full_data[\"Flight Distance\"] < upper_bound_flight_distance) &\n",
    "                  (full_data[\"Flight Distance\"] >= lower_bound_flight_distance), 'Flight Distance'] = i\n",
    "\n",
    "full_data.loc[full_data['Flight Distance'] > max_flight_distance, 'Flight Distance'] = num_bins_flight_distance + 1\n",
    "#------------------------------------------------------------------\n",
    "\n",
    "#------------------------------------------------------------------\n",
    "max_departure_delay = full_data[\"Departure Delay in Minutes\"].max()\n",
    "min_departure_delay = full_data[\"Departure Delay in Minutes\"].min()\n",
    "num_bins_departure = 8\n",
    "\n",
    "full_data['Departure Delay in Minutes'] = pd.cut(\n",
    "    full_data['Departure Delay in Minutes'], bins=num_bins_departure, labels=False, right=False)\n",
    "\n",
    "full_data.loc[full_data['Departure Delay in Minutes'] < min_departure_delay, 'Departure Delay in Minutes'] = 0\n",
    "bin_size_departure = (max_departure_delay - min_departure_delay) / num_bins_departure\n",
    "\n",
    "for i in range(1, num_bins_departure + 1):\n",
    "    lower_bound_departure = (bin_size_departure * (i-1)) + min_departure_delay\n",
    "    upper_bound_departure = (bin_size_departure * i) + min_departure_delay\n",
    "    \n",
    "    full_data.loc[(full_data[\"Departure Delay in Minutes\"] < upper_bound_departure) &\n",
    "                  (full_data[\"Departure Delay in Minutes\"] >= lower_bound_departure), 'Departure Delay in Minutes'] = i\n",
    "\n",
    "full_data.loc[full_data['Departure Delay in Minutes'] > max_departure_delay, 'Departure Delay in Minutes'] = num_bins_departure + 1\n",
    "#------------------------------------------------------\n",
    "\n",
    "#------------------------------------------------------\n",
    "max_delay = full_data[\"Arrival Delay in Minutes\"].max()\n",
    "min_delay = full_data[\"Arrival Delay in Minutes\"].min()\n",
    "num_ranges = 4\n",
    "\n",
    "range_size = (max_delay - min_delay) / num_ranges\n",
    "full_data.loc[full_data['Arrival Delay in Minutes'] < min_delay, 'Arrival Delay in Minutes'] = 0\n",
    "\n",
    "for i in range(1, num_ranges+1):\n",
    "    lower_bound = (range_size * (i-1)) + min_delay\n",
    "    upper_bound = (range_size * i) + min_delay\n",
    "    \n",
    "    full_data.loc[(full_data[\"Arrival Delay in Minutes\"] < upper_bound) &\n",
    "                  (full_data[\"Arrival Delay in Minutes\"] >= lower_bound), 'Arrival Delay in Minutes'] = i\n",
    "\n",
    "full_data.loc[full_data['Arrival Delay in Minutes'] > max_delay, 'Arrival Delay in Minutes'] = num_ranges + 1\n",
    "full_data[\"Arrival Delay in Minutes\"].fillna(full_data[\"Arrival Delay in Minutes\"].median(), inplace=True)"
   ]
  },
  {
   "cell_type": "markdown",
   "metadata": {},
   "source": [
    "select train and test data"
   ]
  },
  {
   "cell_type": "code",
   "execution_count": 20,
   "metadata": {},
   "outputs": [],
   "source": [
    "x=full_data[['Gender','Customer Type','Age','Type of Travel','Class','Flight Distance','Inflight wifi service','Departure/Arrival time convenient','Ease of Online booking','Gate location','Food and drink','Online boarding','Seat comfort','Inflight entertainment','On-board service','Leg room service','Baggage handling','Checkin service','Inflight service','Cleanliness','Departure Delay in Minutes','Arrival Delay in Minutes']]\n",
    "y=full_data[['satisfaction']]\n",
    "X_Train=x.iloc[:85000,:]\n",
    "Y_Train=y.iloc[:85000,:]\n",
    "X_Test=x.iloc[85000:,:]\n",
    "Y_Test=y.iloc[85000:,:]"
   ]
  },
  {
   "cell_type": "code",
   "execution_count": 32,
   "metadata": {},
   "outputs": [
    {
     "name": "stdout",
     "output_type": "stream",
     "text": [
      "0.9331887431231486\n"
     ]
    }
   ],
   "source": [
    "clf=MLPClassifier(hidden_layer_sizes=(10,5),learning_rate_init=0.02)\n",
    "\n",
    "clf.fit(X_Train,Y_Train.values.ravel())\n",
    "ypred=clf.predict(X_Test)\n",
    "accuracy = (accuracy_score(ypred,Y_Test))\n",
    "print(accuracy)"
   ]
  }
 ],
 "metadata": {
  "kernelspec": {
   "display_name": "Python 3",
   "language": "python",
   "name": "python3"
  },
  "language_info": {
   "codemirror_mode": {
    "name": "ipython",
    "version": 3
   },
   "file_extension": ".py",
   "mimetype": "text/x-python",
   "name": "python",
   "nbconvert_exporter": "python",
   "pygments_lexer": "ipython3",
   "version": "3.11.5"
  }
 },
 "nbformat": 4,
 "nbformat_minor": 2
}
