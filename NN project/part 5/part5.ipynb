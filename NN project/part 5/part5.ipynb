{
 "cells": [
  {
   "cell_type": "code",
   "execution_count": 10,
   "metadata": {},
   "outputs": [],
   "source": [
    "import tensorflow as tf\n",
    "from tensorflow import keras\n",
    "import numpy as np\n",
    "import os"
   ]
  },
  {
   "cell_type": "code",
   "execution_count": 11,
   "metadata": {},
   "outputs": [
    {
     "name": "stdout",
     "output_type": "stream",
     "text": [
      "['eight', 'five', 'four', 'nine', 'one', 'seven', 'six', 'three', 'two', 'zero']\n",
      "7291\n"
     ]
    }
   ],
   "source": [
    "class_names = sorted(os.listdir('./train'))\n",
    "\n",
    "num_train_samples = 0\n",
    "for _, _, files in os.walk('./train'):\n",
    "    num_train_samples += len(files)\n",
    "\n",
    "print(class_names)\n",
    "print(num_train_samples)"
   ]
  },
  {
   "cell_type": "code",
   "execution_count": 12,
   "metadata": {},
   "outputs": [],
   "source": [
    "image_h = 64\n",
    "image_w = 64\n",
    "num_epochs = 30\n",
    "class_number = 10\n",
    "channel_number = 3"
   ]
  },
  {
   "cell_type": "code",
   "execution_count": 13,
   "metadata": {},
   "outputs": [],
   "source": [
    "train_data = np.zeros((num_train_samples, image_h * image_w * channel_number), dtype=np.float32)\n",
    "train_labels = np.zeros(num_train_samples, dtype=np.int32)\n",
    "\n",
    "index = 0\n",
    "for class_index, class_name in enumerate(class_names):\n",
    "    class_path = os.path.join('./train', class_name)\n",
    "    for image_name in os.listdir(class_path):\n",
    "        image_path = os.path.join(class_path, image_name)\n",
    "        image = tf.keras.preprocessing.image.load_img(image_path, target_size=(image_h, image_w))\n",
    "        image_array = tf.keras.preprocessing.image.img_to_array(image)\n",
    "        train_data[index] = image_array.flatten()\n",
    "        train_labels[index] = class_index\n",
    "        index += 1"
   ]
  },
  {
   "cell_type": "code",
   "execution_count": 14,
   "metadata": {},
   "outputs": [],
   "source": [
    "class_names = sorted(os.listdir('./test'))\n",
    "num_test_samples = sum(len(files) for _, _, files in os.walk('./test'))"
   ]
  },
  {
   "cell_type": "code",
   "execution_count": 15,
   "metadata": {},
   "outputs": [],
   "source": [
    "test_data = np.zeros((num_test_samples, image_h * image_w * channel_number), dtype=np.float32)\n",
    "test_labels = np.zeros(num_test_samples, dtype=np.int32)\n",
    "\n",
    "index = 0\n",
    "for class_index, class_name in enumerate(class_names):\n",
    "    class_path = os.path.join('./test', class_name)\n",
    "    for image_name in os.listdir(class_path):\n",
    "        image = tf.keras.preprocessing.image.load_img(image_path, target_size=(image_h, image_w))\n",
    "        image_path = os.path.join(class_path, image_name)\n",
    "        image_array = tf.keras.preprocessing.image.img_to_array(image)\n",
    "        test_data[index] = image_array.flatten()\n",
    "        test_labels[index] = class_index\n",
    "        index += 1\n"
   ]
  },
  {
   "cell_type": "code",
   "execution_count": 16,
   "metadata": {},
   "outputs": [],
   "source": [
    "train_data /= 255.0\n",
    "test_data /= 255.0"
   ]
  },
  {
   "cell_type": "code",
   "execution_count": 17,
   "metadata": {},
   "outputs": [],
   "source": [
    "model = keras.Sequential([\n",
    "    keras.layers.Dense(256, activation='relu', input_shape=(image_h * image_w * channel_number,)),\n",
    "    keras.layers.Dense(128, activation='relu'),\n",
    "    keras.layers.Dense(64,activation='relu'),\n",
    "    keras.layers.Dense(32,activation='relu'),\n",
    "    keras.layers.Dense(class_number, activation='softmax')\n",
    "])"
   ]
  },
  {
   "cell_type": "code",
   "execution_count": 24,
   "metadata": {},
   "outputs": [
    {
     "name": "stdout",
     "output_type": "stream",
     "text": [
      "Epoch 1/30\n",
      "114/114 [==============================] - 5s 33ms/step - loss: 0.0022 - accuracy: 0.9997\n",
      "Epoch 2/30\n",
      "114/114 [==============================] - 4s 34ms/step - loss: 0.0400 - accuracy: 0.9957\n",
      "Epoch 3/30\n",
      "114/114 [==============================] - 4s 32ms/step - loss: 0.0075 - accuracy: 0.9988\n",
      "Epoch 4/30\n",
      "114/114 [==============================] - 4s 34ms/step - loss: 0.0020 - accuracy: 0.9999\n",
      "Epoch 5/30\n",
      "114/114 [==============================] - 4s 34ms/step - loss: 0.0014 - accuracy: 0.9999\n",
      "Epoch 6/30\n",
      "114/114 [==============================] - 4s 34ms/step - loss: 2.0498e-05 - accuracy: 1.0000\n",
      "Epoch 7/30\n",
      "114/114 [==============================] - 4s 33ms/step - loss: 2.7386e-06 - accuracy: 1.0000\n",
      "Epoch 8/30\n",
      "114/114 [==============================] - 4s 33ms/step - loss: 1.7199e-06 - accuracy: 1.0000\n",
      "Epoch 9/30\n",
      "114/114 [==============================] - 4s 35ms/step - loss: 1.5685e-06 - accuracy: 1.0000\n",
      "Epoch 10/30\n",
      "114/114 [==============================] - 4s 35ms/step - loss: 1.3221e-06 - accuracy: 1.0000\n",
      "Epoch 11/30\n",
      "114/114 [==============================] - 4s 34ms/step - loss: 1.1104e-06 - accuracy: 1.0000\n",
      "Epoch 12/30\n",
      "114/114 [==============================] - 4s 34ms/step - loss: 9.5141e-07 - accuracy: 1.0000\n",
      "Epoch 13/30\n",
      "114/114 [==============================] - 4s 33ms/step - loss: 9.1605e-07 - accuracy: 1.0000\n",
      "Epoch 14/30\n",
      "114/114 [==============================] - 4s 34ms/step - loss: 7.6727e-07 - accuracy: 1.0000\n",
      "Epoch 15/30\n",
      "114/114 [==============================] - 4s 34ms/step - loss: 7.3305e-07 - accuracy: 1.0000\n",
      "Epoch 16/30\n",
      "114/114 [==============================] - 4s 33ms/step - loss: 6.3832e-07 - accuracy: 1.0000\n",
      "Epoch 17/30\n",
      "114/114 [==============================] - 4s 36ms/step - loss: 5.7233e-07 - accuracy: 1.0000\n",
      "Epoch 18/30\n",
      "114/114 [==============================] - 4s 34ms/step - loss: 5.2830e-07 - accuracy: 1.0000\n",
      "Epoch 19/30\n",
      "114/114 [==============================] - 4s 35ms/step - loss: 4.1397e-07 - accuracy: 1.0000\n",
      "Epoch 20/30\n",
      "114/114 [==============================] - 4s 35ms/step - loss: 3.2762e-07 - accuracy: 1.0000\n",
      "Epoch 21/30\n",
      "114/114 [==============================] - 4s 34ms/step - loss: 2.3456e-07 - accuracy: 1.0000\n",
      "Epoch 22/30\n",
      "114/114 [==============================] - 4s 35ms/step - loss: 2.0574e-07 - accuracy: 1.0000\n",
      "Epoch 23/30\n",
      "114/114 [==============================] - 4s 35ms/step - loss: 1.8604e-07 - accuracy: 1.0000\n",
      "Epoch 24/30\n",
      "114/114 [==============================] - 4s 34ms/step - loss: 1.7043e-07 - accuracy: 1.0000\n",
      "Epoch 25/30\n",
      "114/114 [==============================] - 4s 34ms/step - loss: 1.5797e-07 - accuracy: 1.0000\n",
      "Epoch 26/30\n",
      "114/114 [==============================] - 4s 34ms/step - loss: 1.4682e-07 - accuracy: 1.0000\n",
      "Epoch 27/30\n",
      "114/114 [==============================] - 4s 36ms/step - loss: 1.3677e-07 - accuracy: 1.0000\n",
      "Epoch 28/30\n",
      "114/114 [==============================] - 4s 36ms/step - loss: 1.2787e-07 - accuracy: 1.0000\n",
      "Epoch 29/30\n",
      "114/114 [==============================] - 4s 35ms/step - loss: 1.1988e-07 - accuracy: 1.0000\n",
      "Epoch 30/30\n",
      "114/114 [==============================] - 4s 35ms/step - loss: 1.1250e-07 - accuracy: 1.0000\n",
      "32/32 [==============================] - 0s 7ms/step - loss: 1.8833 - accuracy: 0.9422\n",
      "\n",
      "Test Accuracy: 0.9422022700309753\n",
      "63/63 [==============================] - 0s 4ms/step\n"
     ]
    }
   ],
   "source": [
    "model.compile(optimizer='adam', loss='sparse_categorical_crossentropy', metrics=['accuracy'])\n",
    "\n",
    "model.fit(train_data, train_labels, epochs=num_epochs, batch_size=64)\n",
    "\n",
    "test_loss, test_accuracy = model.evaluate(test_data, test_labels , batch_size=64)\n",
    "print(\"\\nTest Accuracy:\", test_accuracy)\n",
    "\n",
    "predictions = model.predict(test_data)"
   ]
  }
 ],
 "metadata": {
  "kernelspec": {
   "display_name": "Python 3",
   "language": "python",
   "name": "python3"
  },
  "language_info": {
   "codemirror_mode": {
    "name": "ipython",
    "version": 3
   },
   "file_extension": ".py",
   "mimetype": "text/x-python",
   "name": "python",
   "nbconvert_exporter": "python",
   "pygments_lexer": "ipython3",
   "version": "3.11.5"
  }
 },
 "nbformat": 4,
 "nbformat_minor": 2
}
